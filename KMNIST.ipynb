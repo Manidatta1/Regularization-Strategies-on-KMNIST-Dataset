{
 "cells": [
  {
   "cell_type": "markdown",
   "metadata": {},
   "source": [
    "# KMNIST"
   ]
  },
  {
   "cell_type": "markdown",
   "metadata": {},
   "source": [
    "## Importing the libraries"
   ]
  },
  {
   "cell_type": "code",
   "execution_count": 4,
   "metadata": {},
   "outputs": [
    {
     "name": "stderr",
     "output_type": "stream",
     "text": [
      "/Users/manidatta/Library/Python/3.9/lib/python/site-packages/urllib3/__init__.py:35: NotOpenSSLWarning: urllib3 v2 only supports OpenSSL 1.1.1+, currently the 'ssl' module is compiled with 'LibreSSL 2.8.3'. See: https://github.com/urllib3/urllib3/issues/3020\n",
      "  warnings.warn(\n"
     ]
    }
   ],
   "source": [
    "import tensorflow as tf\n",
    "import pathlib\n",
    "import torchvision\n",
    "import torch.nn as nn\n",
    "import torch.nn.functional as F\n",
    "import torchvision.transforms as transforms\n",
    "from torchvision.datasets import ImageFolder\n",
    "from torch.utils.data import DataLoader, random_split\n",
    "import torch\n",
    "import torch.optim as optim\n",
    "from torchmetrics.classification import Accuracy\n",
    "import numpy as np\n",
    "import os\n",
    "from torch.utils.data import Subset\n",
    "\n",
    "\n",
    "# defining the image transformations\n",
    "transform = transforms.Compose([\n",
    "\n",
    "    # Converting the image to PyTorch tensors\n",
    "    transforms.ToTensor(),\n",
    "\n",
    "    # Performing the Normalization \n",
    "    transforms.Normalize((0.5,), (0.5,))\n",
    "\n",
    "\n",
    "])\n",
    "\n",
    "\n",
    "# Loading the datasets\n",
    "\n",
    "train_set = torchvision.datasets.KMNIST(root='./data', train=True, download=True, transform=transform)\n",
    "test_set = torchvision.datasets.KMNIST(root='./data', train = False, download=True, transform=transform)\n",
    "\n",
    "\n",
    "\n",
    "# Creating the PyTorch dataloaders for batch processing \n",
    "# Shuffling the data for training because we can get the different combinations of samples for each epoch so the model learns well\n",
    "# Shuffling for test data is set to False because there is no learning.\n",
    "train_data = DataLoader(train_set, batch_size=64, shuffle=True)\n",
    "test_data  = DataLoader(test_set,batch_size=64, shuffle=False)\n"
   ]
  },
  {
   "cell_type": "markdown",
   "metadata": {},
   "source": [
    "## Designing a Baseline Model"
   ]
  },
  {
   "cell_type": "code",
   "execution_count": 355,
   "metadata": {},
   "outputs": [],
   "source": [
    "# defining the Classification class\n",
    "\n",
    "class KMNIST(nn.Module):\n",
    "\n",
    "    def __init__(self,n_channels, n_classes):\n",
    "        super(KMNIST,self).__init__()\n",
    "\n",
    "        self.n_channels = n_channels\n",
    "        self.n_classes = n_classes\n",
    "\n",
    "        # Declaring all the layers which will be used in this model\n",
    "        self.conv1 = nn.Conv2d(in_channels=n_channels, out_channels=32,kernel_size=3,padding=1)\n",
    "        self.conv2 = nn.Conv2d(in_channels=32,out_channels=64,kernel_size=3,padding=1)\n",
    "        self.conv3 = nn.Conv2d(in_channels=64, out_channels=128, kernel_size=3,padding=1)\n",
    "        self.conv4 = nn.Conv2d(in_channels=128, out_channels=256, kernel_size=3,padding=1)\n",
    "        self.conv5 = nn.Conv2d(in_channels=256, out_channels=512, kernel_size=3,padding=1)\n",
    "\n",
    "        self.pool = nn.MaxPool2d(kernel_size=2, stride=2)\n",
    "\n",
    "        # after passing to above two pooling layers the image size will be reduced to 3 x 3\n",
    "        self.fc1  = nn.Linear(512 *3 *3, 512)\n",
    "        self.fc2  = nn.Linear(512,10)\n",
    "\n",
    "        self.relu = nn.ReLU()\n",
    "\n",
    "    \n",
    "    # feed forward model \n",
    "\n",
    "    def forward(self, x):\n",
    "        # Applying the five convolutional layers passing through ReLU activation function and pooling layers\n",
    "        x = self.relu(self.conv1(x))\n",
    "        x = self.pool(self.relu(self.conv2(x)))\n",
    "        x = self.relu(self.conv3(x))\n",
    "        x = self.pool(self.relu(self.conv4(x)))\n",
    "        x = self.relu(self.conv5(x))\n",
    "        x = self.pool(x)\n",
    "        \n",
    "        # Flattening \n",
    "        x = torch.flatten(x, 1)\n",
    "\n",
    "        # Fully connected layers passing through ReLU activation function\n",
    "        x = F.relu(self.fc1(x))  \n",
    "        x = self.fc2(x) \n",
    "        \n",
    "        return x"
   ]
  },
  {
   "cell_type": "code",
   "execution_count": 8,
   "metadata": {},
   "outputs": [],
   "source": [
    "device = torch.device(\"cuda\" if torch.cuda.is_available() else \"cpu\")"
   ]
  },
  {
   "cell_type": "markdown",
   "metadata": {},
   "source": [
    "## Training the Model"
   ]
  },
  {
   "cell_type": "code",
   "execution_count": 356,
   "metadata": {},
   "outputs": [],
   "source": [
    "def Train(train_data,model_name,n_classes):\n",
    " epochs = 5\n",
    "\n",
    " save_path = \"models/\"\n",
    " os.makedirs(save_path, exist_ok=True) \n",
    "\n",
    " n_channels = 1\n",
    " \n",
    "\n",
    " # Initializing the model\n",
    " model = KMNIST(n_channels=n_channels,n_classes=n_classes).to(device)\n",
    "    \n",
    " # Defining the Stochastic Gradient descent optimizer\n",
    " sgd_optimizer = optim.SGD(model.parameters(), lr=0.01)\n",
    " # defining the Accuracy Metric\n",
    " accuracy_metric = Accuracy(task=\"multiclass\", num_classes=n_classes).to(device) \n",
    "\n",
    " # Defining the Cross Entropy loss function\n",
    " loss_function = nn.CrossEntropyLoss().to(device)\n",
    "\n",
    "\n",
    " # defining the loss \n",
    " losses =[]\n",
    "\n",
    " for epoch in range(epochs):\n",
    "     # initiaizing the loss for each batch \n",
    "     batch_losses =[]\n",
    "\n",
    "     # Resetting the accuracy metric for each epoch\n",
    "     accuracy_metric.reset()\n",
    "        \n",
    "     # iterating over each batch\n",
    "     for images, labels in train_data:\n",
    "         images , labels = images.to(device) , labels.to(device)\n",
    "         output = model(images)\n",
    "                         \n",
    "         # calculating the loss\n",
    "         loss = loss_function(output, labels)\n",
    "\n",
    "         # Making all the gradients to zero, so that weights are updated using the current gradients not previous ones\n",
    "         sgd_optimizer.zero_grad()\n",
    "\n",
    "         # backpropogration\n",
    "         loss.backward()\n",
    "\n",
    "         # updating the weights \n",
    "         sgd_optimizer.step()\n",
    "\n",
    "            \n",
    "\n",
    "         # appending the loss of the current batch\n",
    "         # .item() will convert the loss from tensor to float\n",
    "         batch_losses.append(loss.item())\n",
    "\n",
    "         # updating the accuracy metrics for currrent batch\n",
    "         accuracy_metric.update(output,labels)\n",
    "\n",
    "     # Calculating the losses for and accuracy for epoch which includes all the batches\n",
    "     train_loss = np.mean(batch_losses)\n",
    "     train_accuracy = accuracy_metric.compute().item()\n",
    "     losses.append(train_loss)\n",
    "\n",
    "     print(f\" Epoch [{epoch +1}/{epochs}], Loss: {train_loss:.4f} , Accuracy: {train_accuracy *100:.2f}% \\n\")\n",
    "\n",
    " # saving the model for each epoch size\n",
    " model_filename = f\"{save_path}{model_name}_model_epoch_{epochs}.pth\"\n",
    " torch.save(model.state_dict(), model_filename)\n",
    " print(f\"Model saved: {model_filename}\\n\")"
   ]
  },
  {
   "cell_type": "code",
   "execution_count": 357,
   "metadata": {},
   "outputs": [
    {
     "name": "stdout",
     "output_type": "stream",
     "text": [
      " Epoch [1/5], Loss: 2.2942 , Accuracy: 22.12% \n",
      "\n",
      " Epoch [2/5], Loss: 0.9630 , Accuracy: 71.43% \n",
      "\n",
      " Epoch [3/5], Loss: 0.2796 , Accuracy: 91.20% \n",
      "\n",
      " Epoch [4/5], Loss: 0.1661 , Accuracy: 94.90% \n",
      "\n",
      " Epoch [5/5], Loss: 0.1156 , Accuracy: 96.47% \n",
      "\n",
      "Model saved: models/Baseline Model_model_epoch_5.pth\n",
      "\n"
     ]
    }
   ],
   "source": [
    "Train(train_data,\"Baseline Model\",10)"
   ]
  },
  {
   "cell_type": "markdown",
   "metadata": {},
   "source": [
    "## Testing the Baseline Model"
   ]
  },
  {
   "cell_type": "code",
   "execution_count": 446,
   "metadata": {},
   "outputs": [],
   "source": [
    "from sklearn.metrics import classification_report\n",
    "def evaluate(test_data,model_path,class_names):\n",
    "   \n",
    "   # Reinitializing the model\n",
    "   model = KMNIST(n_channels=1,n_classes=10).to(device)\n",
    "\n",
    "\n",
    "   # Loading the trained weights\n",
    "   model.load_state_dict(torch.load(model_path))\n",
    "\n",
    "   model.eval()\n",
    "   model = model.to(device)\n",
    "    \n",
    "   # defining the Accuracy Metric\n",
    "   accuracy_metric = Accuracy(task=\"multiclass\", num_classes=10).to(device) \n",
    "\n",
    "   y_true = []\n",
    "   y_pred = []\n",
    "\n",
    "   # No gradient calculations are required\n",
    "   with torch.no_grad():\n",
    "    for images, labels in test_data:\n",
    "        images , labels = images.to(device) , labels.to(device)\n",
    "\n",
    "        outputs = model(images)\n",
    "\n",
    "        predictions = torch.argmax(outputs, axis =1)\n",
    "\n",
    "        y_true.extend(labels.cpu().numpy())\n",
    "        y_pred.extend(predictions.cpu().numpy())\n",
    "\n",
    "        accuracy_metric.update(predictions, labels)\n",
    "\n",
    "   test_accuracy = accuracy_metric.compute().item()\n",
    "   print(f\"Test accuracy of the Model: {test_accuracy * 100:.2f}%\")\n",
    "\n",
    "   print(\"Classification Report:\")\n",
    "   print(classification_report(y_true, y_pred, target_names=class_names))"
   ]
  },
  {
   "cell_type": "code",
   "execution_count": 447,
   "metadata": {},
   "outputs": [
    {
     "name": "stdout",
     "output_type": "stream",
     "text": [
      "Test accuracy of the Model: 87.62%\n",
      "Classification Report:\n",
      "              precision    recall  f1-score   support\n",
      "\n",
      "           o       0.96      0.88      0.92      1000\n",
      "          ki       0.97      0.81      0.89      1000\n",
      "          su       0.81      0.87      0.84      1000\n",
      "         tsu       0.89      0.96      0.92      1000\n",
      "          na       0.67      0.94      0.78      1000\n",
      "          ha       0.85      0.93      0.89      1000\n",
      "          ma       0.89      0.92      0.90      1000\n",
      "          ya       0.99      0.77      0.87      1000\n",
      "          re       0.89      0.94      0.92      1000\n",
      "          wo       0.99      0.74      0.84      1000\n",
      "\n",
      "    accuracy                           0.88     10000\n",
      "   macro avg       0.89      0.88      0.88     10000\n",
      "weighted avg       0.89      0.88      0.88     10000\n",
      "\n"
     ]
    }
   ],
   "source": [
    "evaluate(test_data,\"models/Baseline Model_model_epoch_5.pth\",test_data.dataset.classes)"
   ]
  },
  {
   "cell_type": "markdown",
   "metadata": {},
   "source": [
    "## Training the model with 25% , 50% and 75% of Total Training data"
   ]
  },
  {
   "cell_type": "code",
   "execution_count": 363,
   "metadata": {},
   "outputs": [],
   "source": [
    "# defining the function which returns the percentage of balanced class data\n",
    "from collections import defaultdict\n",
    "def balanced_class_partial_train_data(dataset,percent):\n",
    "\n",
    "    # initializing the empty dictionary, it is used to the store the labels and indices of the data\n",
    "    class_indices = defaultdict(list)\n",
    "\n",
    "    # Organizing the indices by class\n",
    "    for idx, (_,label) in enumerate(dataset):\n",
    "        class_indices[label].append(idx)\n",
    "\n",
    "    percent_indices = []\n",
    "    for label , indices in class_indices.items():\n",
    "        # counting the number of samples per each class according the given percentage \n",
    "        num_of_samples = int(len(indices) * percent)\n",
    "\n",
    "        # storing the indices of all the class \n",
    "        percent_indices.extend(np.random.choice(indices,num_of_samples,replace=False))\n",
    "    \n",
    "\n",
    "    # returing the data which contains only the selected indices\n",
    "    return Subset(dataset, percent_indices)\n",
    "        \n",
    "    "
   ]
  },
  {
   "cell_type": "code",
   "execution_count": 364,
   "metadata": {},
   "outputs": [
    {
     "name": "stdout",
     "output_type": "stream",
     "text": [
      " Epoch [1/5], Loss: 2.2371 , Accuracy: 22.06% \n",
      "\n",
      " Epoch [2/5], Loss: 0.7485 , Accuracy: 75.35% \n",
      "\n",
      " Epoch [3/5], Loss: 0.3246 , Accuracy: 89.65% \n",
      "\n",
      " Epoch [4/5], Loss: 0.2003 , Accuracy: 93.55% \n",
      "\n",
      " Epoch [5/5], Loss: 0.1399 , Accuracy: 95.61% \n",
      "\n",
      "Model saved: models/Baseline Model with 25% of training data_model_epoch_5.pth\n",
      "\n"
     ]
    }
   ],
   "source": [
    "# Training the model with 25% of the training data\n",
    "data_25 = balanced_class_partial_train_data(train_set,0.25)\n",
    "train_data_25 = DataLoader(data_25, batch_size=16, shuffle=True)\n",
    "\n",
    "Train(train_data_25,\"Baseline Model with 25% of training data\",10)"
   ]
  },
  {
   "cell_type": "code",
   "execution_count": 449,
   "metadata": {},
   "outputs": [
    {
     "name": "stdout",
     "output_type": "stream",
     "text": [
      "Test accuracy of the Model: 85.22%\n",
      "Classification Report:\n",
      "              precision    recall  f1-score   support\n",
      "\n",
      "           o       0.68      0.96      0.79      1000\n",
      "          ki       0.72      0.92      0.81      1000\n",
      "          su       0.88      0.78      0.83      1000\n",
      "         tsu       0.81      0.96      0.88      1000\n",
      "          na       0.93      0.74      0.82      1000\n",
      "          ha       0.94      0.88      0.91      1000\n",
      "          ma       0.90      0.86      0.88      1000\n",
      "          ya       0.95      0.75      0.84      1000\n",
      "          re       0.94      0.83      0.88      1000\n",
      "          wo       0.95      0.84      0.89      1000\n",
      "\n",
      "    accuracy                           0.85     10000\n",
      "   macro avg       0.87      0.85      0.85     10000\n",
      "weighted avg       0.87      0.85      0.85     10000\n",
      "\n"
     ]
    }
   ],
   "source": [
    "# Testing with the model that is trained with 25% of the training data\n",
    "evaluate(test_data,\"models/Baseline Model with 25% of training data_model_epoch_5.pth\",test_data.dataset.classes)"
   ]
  },
  {
   "cell_type": "code",
   "execution_count": 366,
   "metadata": {},
   "outputs": [
    {
     "name": "stdout",
     "output_type": "stream",
     "text": [
      " Epoch [1/5], Loss: 2.1637 , Accuracy: 26.23% \n",
      "\n",
      " Epoch [2/5], Loss: 0.6035 , Accuracy: 80.54% \n",
      "\n",
      " Epoch [3/5], Loss: 0.2726 , Accuracy: 91.34% \n",
      "\n",
      " Epoch [4/5], Loss: 0.1777 , Accuracy: 94.50% \n",
      "\n",
      " Epoch [5/5], Loss: 0.1276 , Accuracy: 96.09% \n",
      "\n",
      "Model saved: models/Baseline Model with 50% of training data_model_epoch_5.pth\n",
      "\n"
     ]
    }
   ],
   "source": [
    "# Training the model with 50% of the training data\n",
    "data_50 = balanced_class_partial_train_data(train_set,0.50)\n",
    "train_data_50 = DataLoader(data_50, batch_size=32, shuffle=True)\n",
    "\n",
    "Train(train_data_50,\"Baseline Model with 50% of training data\",10)"
   ]
  },
  {
   "cell_type": "code",
   "execution_count": 451,
   "metadata": {},
   "outputs": [
    {
     "name": "stdout",
     "output_type": "stream",
     "text": [
      "Test accuracy of the Model: 89.11%\n",
      "Classification Report:\n",
      "              precision    recall  f1-score   support\n",
      "\n",
      "           o       0.98      0.85      0.91      1000\n",
      "          ki       0.84      0.92      0.88      1000\n",
      "          su       0.85      0.81      0.83      1000\n",
      "         tsu       0.92      0.93      0.92      1000\n",
      "          na       0.88      0.86      0.87      1000\n",
      "          ha       0.95      0.87      0.91      1000\n",
      "          ma       0.83      0.94      0.88      1000\n",
      "          ya       0.91      0.92      0.91      1000\n",
      "          re       0.83      0.94      0.88      1000\n",
      "          wo       0.97      0.87      0.92      1000\n",
      "\n",
      "    accuracy                           0.89     10000\n",
      "   macro avg       0.90      0.89      0.89     10000\n",
      "weighted avg       0.90      0.89      0.89     10000\n",
      "\n"
     ]
    }
   ],
   "source": [
    "# Testing with the model that is trained with 50% of the training data\n",
    "evaluate(test_data,\"models/Baseline Model with 50% of training data_model_epoch_5.pth\",test_data.dataset.classes)"
   ]
  },
  {
   "cell_type": "code",
   "execution_count": 369,
   "metadata": {},
   "outputs": [
    {
     "name": "stdout",
     "output_type": "stream",
     "text": [
      " Epoch [1/5], Loss: 2.2958 , Accuracy: 17.21% \n",
      "\n",
      " Epoch [2/5], Loss: 0.9946 , Accuracy: 70.09% \n",
      "\n",
      " Epoch [3/5], Loss: 0.2993 , Accuracy: 90.59% \n",
      "\n",
      " Epoch [4/5], Loss: 0.1798 , Accuracy: 94.33% \n",
      "\n",
      " Epoch [5/5], Loss: 0.1249 , Accuracy: 96.11% \n",
      "\n",
      "Model saved: models/Baseline Model with 75% of training data_model_epoch_5.pth\n",
      "\n"
     ]
    }
   ],
   "source": [
    "# Training the model with 75% of the training data\n",
    "data_75 = balanced_class_partial_train_data(train_set,0.75)\n",
    "train_data_75 = DataLoader(data_75, batch_size=48, shuffle=True)\n",
    "\n",
    "Train(train_data_75,\"Baseline Model with 75% of training data\",10)"
   ]
  },
  {
   "cell_type": "code",
   "execution_count": 450,
   "metadata": {},
   "outputs": [
    {
     "name": "stdout",
     "output_type": "stream",
     "text": [
      "Test accuracy of the Model: 90.31%\n",
      "Classification Report:\n",
      "              precision    recall  f1-score   support\n",
      "\n",
      "           o       0.93      0.94      0.94      1000\n",
      "          ki       0.90      0.90      0.90      1000\n",
      "          su       0.80      0.86      0.83      1000\n",
      "         tsu       0.93      0.94      0.93      1000\n",
      "          na       0.89      0.90      0.89      1000\n",
      "          ha       0.97      0.83      0.89      1000\n",
      "          ma       0.85      0.94      0.89      1000\n",
      "          ya       0.92      0.94      0.93      1000\n",
      "          re       0.95      0.87      0.91      1000\n",
      "          wo       0.93      0.91      0.92      1000\n",
      "\n",
      "    accuracy                           0.90     10000\n",
      "   macro avg       0.91      0.90      0.90     10000\n",
      "weighted avg       0.91      0.90      0.90     10000\n",
      "\n"
     ]
    }
   ],
   "source": [
    "# Testing with the model that is trained with 75% of the training data\n",
    "evaluate(test_data,\"models/Baseline Model with 75% of training data_model_epoch_5.pth\",test_data.dataset.classes)"
   ]
  },
  {
   "cell_type": "markdown",
   "metadata": {},
   "source": [
    "# Baseline Model with Dropout Layers"
   ]
  },
  {
   "cell_type": "code",
   "execution_count": 375,
   "metadata": {},
   "outputs": [],
   "source": [
    "# defining the Classification class\n",
    "\n",
    "class KMNIST_with_dropout(nn.Module):\n",
    "\n",
    "    def __init__(self,n_channels, n_classes):\n",
    "        super(KMNIST_with_dropout,self).__init__()\n",
    "\n",
    "        self.n_channels = n_channels\n",
    "        self.n_classes = n_classes\n",
    "\n",
    "        # Declaring all the layers which will be used in this model\n",
    "        self.conv1 = nn.Conv2d(in_channels=n_channels, out_channels=32,kernel_size=3,padding=1)\n",
    "        self.conv2 = nn.Conv2d(in_channels=32,out_channels=64,kernel_size=3,padding=1)\n",
    "        self.conv3 = nn.Conv2d(in_channels=64, out_channels=128, kernel_size=3,padding=1)\n",
    "        self.conv4 = nn.Conv2d(in_channels=128, out_channels=256, kernel_size=3,padding=1)\n",
    "        self.conv5 = nn.Conv2d(in_channels=256, out_channels=512, kernel_size=3,padding=1)\n",
    "\n",
    "        self.pool = nn.MaxPool2d(kernel_size=2, stride=2)\n",
    "\n",
    "        # after passing to above two pooling layers the image size will be reduced to 3 x 3\n",
    "        self.fc1  = nn.Linear(512 *3 *3, 512)\n",
    "        self.fc2  = nn.Linear(512,10)\n",
    "\n",
    "        self.relu = nn.ReLU()\n",
    "\n",
    "        # Initializing the dropout layer\n",
    "        self.dropout = nn.Dropout(0.2)\n",
    "\n",
    "    \n",
    "    # feed forward model \n",
    "\n",
    "    def forward(self, x):\n",
    "        # Applying the five convolutional layers passing through ReLU activation function and pooling layers\n",
    "        x = self.relu(self.conv1(x))\n",
    "        x = self.pool(self.relu(self.conv2(x)))\n",
    "        x = self.relu(self.conv3(x))\n",
    "        x = self.pool(self.relu(self.conv4(x)))\n",
    "        x = self.relu(self.conv5(x))\n",
    "        x = self.pool(x)\n",
    "        \n",
    "        # Flattening \n",
    "        x = torch.flatten(x, 1)\n",
    "\n",
    "        # Fully connected layers passing through ReLU activation function\n",
    "        # Applying the dropout to the first fully connected layer\n",
    "        x = self.dropout(F.relu(self.fc1(x)))\n",
    "        x = self.fc2(x) \n",
    "        \n",
    "        return x"
   ]
  },
  {
   "cell_type": "code",
   "execution_count": 376,
   "metadata": {},
   "outputs": [],
   "source": [
    "def Train_with_dropout(train_data,model_name,n_classes):\n",
    " epochs = 5\n",
    "\n",
    " save_path = \"models/\"\n",
    " os.makedirs(save_path, exist_ok=True) \n",
    "\n",
    " n_channels = 1\n",
    " \n",
    "\n",
    " # Initializing the model\n",
    " model = KMNIST_with_dropout(n_channels=n_channels,n_classes=10).to(device)\n",
    "    \n",
    " # Defining the Stochastic Gradient descent optimizer\n",
    " sgd_optimizer = optim.SGD(model.parameters(), lr=0.01)\n",
    " # defining the Accuracy Metric\n",
    " accuracy_metric = Accuracy(task=\"multiclass\", num_classes=10).to(device) \n",
    "\n",
    " # Defining the Cross Entropy loss function\n",
    " loss_function = nn.CrossEntropyLoss().to(device)\n",
    "\n",
    "\n",
    " # defining the loss \n",
    " losses =[]\n",
    "\n",
    " for epoch in range(epochs):\n",
    "     # initiaizing the loss for each batch \n",
    "     batch_losses =[]\n",
    "\n",
    "     # Resetting the accuracy metric for each epoch\n",
    "     accuracy_metric.reset()\n",
    "        \n",
    "     # iterating over each batch\n",
    "     for images, labels in train_data:\n",
    "         images , labels = images.to(device) , labels.to(device)\n",
    "         output = model(images)\n",
    "                         \n",
    "         # calculating the loss\n",
    "         loss = loss_function(output, labels)\n",
    "\n",
    "         # Making all the gradients to zero, so that weights are updated using the current gradients not previous ones\n",
    "         sgd_optimizer.zero_grad()\n",
    "\n",
    "         # backpropogration\n",
    "         loss.backward()\n",
    "\n",
    "         # updating the weights \n",
    "         sgd_optimizer.step()\n",
    "\n",
    "        \n",
    "         # appending the loss of the current batch\n",
    "         # .item() will convert the loss from tensor to float\n",
    "         batch_losses.append(loss.item())\n",
    "\n",
    "         # updating the accuracy metrics for currrent batch\n",
    "         accuracy_metric.update(output,labels)\n",
    "\n",
    "     # Calculating the losses for and accuracy for epoch which includes all the batches\n",
    "     train_loss = np.mean(batch_losses)\n",
    "     train_accuracy = accuracy_metric.compute().item()\n",
    "     losses.append(train_loss)\n",
    "\n",
    "     print(f\" Epoch [{epoch +1}/{epochs}], Loss: {train_loss:.4f} , Accuracy: {train_accuracy *100:.2f}% \\n\")\n",
    "\n",
    " # saving the model for each epoch size\n",
    " model_filename = f\"{save_path}{model_name}_model_epoch_{epochs}.pth\"\n",
    " torch.save(model.state_dict(), model_filename)\n",
    " print(f\"Model saved: {model_filename}\\n\")"
   ]
  },
  {
   "cell_type": "code",
   "execution_count": 377,
   "metadata": {},
   "outputs": [
    {
     "name": "stdout",
     "output_type": "stream",
     "text": [
      " Epoch [1/5], Loss: 2.2714 , Accuracy: 18.77% \n",
      "\n",
      " Epoch [2/5], Loss: 0.7264 , Accuracy: 76.42% \n",
      "\n",
      " Epoch [3/5], Loss: 0.2953 , Accuracy: 90.71% \n",
      "\n",
      " Epoch [4/5], Loss: 0.1993 , Accuracy: 93.73% \n",
      "\n",
      " Epoch [5/5], Loss: 0.1499 , Accuracy: 95.31% \n",
      "\n",
      "Model saved: models/Baseline Model with Droput Layers_model_epoch_5.pth\n",
      "\n"
     ]
    }
   ],
   "source": [
    "# Training the model with dropout layers\n",
    "\n",
    "Train_with_dropout(train_data,\"Baseline Model with Droput Layers\",10)"
   ]
  },
  {
   "cell_type": "code",
   "execution_count": 452,
   "metadata": {},
   "outputs": [],
   "source": [
    "def evaluate_dropout(test_data,model_path,class_names):\n",
    "   \n",
    "   # Reinitializing the model\n",
    "   model = KMNIST_with_dropout(n_channels=1,n_classes=10).to(device)\n",
    "\n",
    "\n",
    "   # Loading the trained weights\n",
    "   model.load_state_dict(torch.load(model_path))\n",
    "\n",
    "   model.eval()\n",
    "   model = model.to(device)\n",
    "\n",
    "   # defining the Accuracy Metric\n",
    "   accuracy_metric = Accuracy(task=\"multiclass\", num_classes=10).to(device)\n",
    "\n",
    "   y_true = []\n",
    "   y_pred = []\n",
    "\n",
    "   # No gradient calculations are required\n",
    "   with torch.no_grad():\n",
    "    for images, labels in test_data:\n",
    "        images , labels = images.to(device) , labels.to(device)\n",
    "\n",
    "        outputs = model(images)\n",
    "\n",
    "        predictions = torch.argmax(outputs, axis =1)\n",
    "\n",
    "        y_true.extend(labels.cpu().numpy())\n",
    "        y_pred.extend(predictions.cpu().numpy())\n",
    "\n",
    "        accuracy_metric.update(predictions, labels)\n",
    "\n",
    "   test_accuracy = accuracy_metric.compute().item()\n",
    "   print(f\"Test accuracy of the Model: {test_accuracy * 100:.2f}%\")\n",
    "\n",
    "   print(\"Classification Report:\")\n",
    "   print(classification_report(y_true, y_pred, target_names=class_names))"
   ]
  },
  {
   "cell_type": "code",
   "execution_count": 453,
   "metadata": {},
   "outputs": [
    {
     "name": "stdout",
     "output_type": "stream",
     "text": [
      "Test accuracy of the Model: 90.17%\n",
      "Classification Report:\n",
      "              precision    recall  f1-score   support\n",
      "\n",
      "           o       0.95      0.90      0.92      1000\n",
      "          ki       0.91      0.89      0.90      1000\n",
      "          su       0.85      0.86      0.85      1000\n",
      "         tsu       0.91      0.94      0.92      1000\n",
      "          na       0.83      0.94      0.88      1000\n",
      "          ha       0.94      0.89      0.91      1000\n",
      "          ma       0.89      0.92      0.90      1000\n",
      "          ya       0.94      0.89      0.92      1000\n",
      "          re       0.89      0.90      0.89      1000\n",
      "          wo       0.94      0.91      0.92      1000\n",
      "\n",
      "    accuracy                           0.90     10000\n",
      "   macro avg       0.90      0.90      0.90     10000\n",
      "weighted avg       0.90      0.90      0.90     10000\n",
      "\n"
     ]
    }
   ],
   "source": [
    "# Test with the model trained with dropout layers\n",
    "evaluate_dropout(test_data, \"models/Baseline Model with Droput Layers_model_epoch_5.pth\",test_data.dataset.classes)"
   ]
  },
  {
   "cell_type": "markdown",
   "metadata": {},
   "source": [
    "## Training the model having dropout layers with 25% , 50% and 75% of Total Training data"
   ]
  },
  {
   "cell_type": "code",
   "execution_count": 386,
   "metadata": {},
   "outputs": [
    {
     "name": "stdout",
     "output_type": "stream",
     "text": [
      " Epoch [1/5], Loss: 2.2012 , Accuracy: 25.17% \n",
      "\n",
      " Epoch [2/5], Loss: 0.7059 , Accuracy: 77.21% \n",
      "\n",
      " Epoch [3/5], Loss: 0.3241 , Accuracy: 89.79% \n",
      "\n",
      " Epoch [4/5], Loss: 0.2030 , Accuracy: 93.67% \n",
      "\n",
      " Epoch [5/5], Loss: 0.1362 , Accuracy: 95.77% \n",
      "\n",
      "Model saved: models/Baseline Model having dropout layers with 25% of training data_model_epoch_5.pth\n",
      "\n"
     ]
    }
   ],
   "source": [
    "Train_with_dropout(train_data_25,\"Baseline Model having dropout layers with 25% of training data\",10)"
   ]
  },
  {
   "cell_type": "code",
   "execution_count": 456,
   "metadata": {},
   "outputs": [
    {
     "name": "stdout",
     "output_type": "stream",
     "text": [
      "Test accuracy of the Model: 94.65%\n",
      "Classification Report:\n",
      "              precision    recall  f1-score   support\n",
      "\n",
      "           o       0.96      0.94      0.95      1000\n",
      "          ki       0.97      0.90      0.94      1000\n",
      "          su       0.92      0.92      0.92      1000\n",
      "         tsu       0.95      0.98      0.96      1000\n",
      "          na       0.93      0.91      0.92      1000\n",
      "          ha       0.94      0.95      0.95      1000\n",
      "          ma       0.93      0.94      0.94      1000\n",
      "          ya       0.96      0.97      0.96      1000\n",
      "          re       0.93      0.98      0.96      1000\n",
      "          wo       0.96      0.96      0.96      1000\n",
      "\n",
      "    accuracy                           0.95     10000\n",
      "   macro avg       0.95      0.95      0.95     10000\n",
      "weighted avg       0.95      0.95      0.95     10000\n",
      "\n"
     ]
    }
   ],
   "source": [
    "# Testing with the model that is trained with 25% of the training data with dropoutlayers\n",
    "evaluate_dropout(test_data,\"models/Baseline Model having dropout layers with 25% of training data_model_epoch_5.pth\",test_data.dataset.classes)"
   ]
  },
  {
   "cell_type": "code",
   "execution_count": 388,
   "metadata": {},
   "outputs": [
    {
     "name": "stdout",
     "output_type": "stream",
     "text": [
      " Epoch [1/5], Loss: 2.2973 , Accuracy: 17.14% \n",
      "\n",
      " Epoch [2/5], Loss: 1.1988 , Accuracy: 63.83% \n",
      "\n",
      " Epoch [3/5], Loss: 0.3626 , Accuracy: 88.34% \n",
      "\n",
      " Epoch [4/5], Loss: 0.2263 , Accuracy: 92.85% \n",
      "\n",
      " Epoch [5/5], Loss: 0.1631 , Accuracy: 94.83% \n",
      "\n",
      "Model saved: models/Baseline Model having dropout layers with 50% of training data_model_epoch_5.pth\n",
      "\n"
     ]
    }
   ],
   "source": [
    "Train_with_dropout(train_data_50,\"Baseline Model having dropout layers with 50% of training data\",10)"
   ]
  },
  {
   "cell_type": "code",
   "execution_count": 457,
   "metadata": {},
   "outputs": [
    {
     "name": "stdout",
     "output_type": "stream",
     "text": [
      "Test accuracy of the Model: 89.43%\n",
      "Classification Report:\n",
      "              precision    recall  f1-score   support\n",
      "\n",
      "           o       0.91      0.93      0.92      1000\n",
      "          ki       0.87      0.91      0.89      1000\n",
      "          su       0.88      0.81      0.84      1000\n",
      "         tsu       0.83      0.96      0.89      1000\n",
      "          na       0.84      0.90      0.87      1000\n",
      "          ha       0.96      0.89      0.93      1000\n",
      "          ma       0.90      0.91      0.90      1000\n",
      "          ya       0.92      0.92      0.92      1000\n",
      "          re       0.97      0.79      0.87      1000\n",
      "          wo       0.91      0.94      0.92      1000\n",
      "\n",
      "    accuracy                           0.89     10000\n",
      "   macro avg       0.90      0.89      0.89     10000\n",
      "weighted avg       0.90      0.89      0.89     10000\n",
      "\n"
     ]
    }
   ],
   "source": [
    "# Testing with the model that is trained with 50% of the training data with dropoutlayers\n",
    "evaluate_dropout(test_data,\"models/Baseline Model having dropout layers with 50% of training data_model_epoch_5.pth\",test_data.dataset.classes)"
   ]
  },
  {
   "cell_type": "code",
   "execution_count": 392,
   "metadata": {},
   "outputs": [
    {
     "name": "stdout",
     "output_type": "stream",
     "text": [
      " Epoch [1/5], Loss: 2.2430 , Accuracy: 25.63% \n",
      "\n",
      " Epoch [2/5], Loss: 0.6884 , Accuracy: 77.58% \n",
      "\n",
      " Epoch [3/5], Loss: 0.2988 , Accuracy: 90.48% \n",
      "\n",
      " Epoch [4/5], Loss: 0.2034 , Accuracy: 93.62% \n",
      "\n",
      " Epoch [5/5], Loss: 0.1541 , Accuracy: 95.16% \n",
      "\n",
      "Model saved: models/Baseline Model having dropout layers with 75% of training data_model_epoch_5.pth\n",
      "\n"
     ]
    }
   ],
   "source": [
    "Train_with_dropout(train_data_75,\"Baseline Model having dropout layers with 75% of training data\",10)"
   ]
  },
  {
   "cell_type": "code",
   "execution_count": 458,
   "metadata": {},
   "outputs": [
    {
     "name": "stdout",
     "output_type": "stream",
     "text": [
      "Test accuracy of the Model: 90.05%\n",
      "Classification Report:\n",
      "              precision    recall  f1-score   support\n",
      "\n",
      "           o       0.90      0.95      0.93      1000\n",
      "          ki       0.87      0.90      0.88      1000\n",
      "          su       0.82      0.85      0.84      1000\n",
      "         tsu       0.92      0.93      0.93      1000\n",
      "          na       0.91      0.86      0.89      1000\n",
      "          ha       0.97      0.85      0.91      1000\n",
      "          ma       0.84      0.95      0.89      1000\n",
      "          ya       0.92      0.92      0.92      1000\n",
      "          re       0.93      0.87      0.90      1000\n",
      "          wo       0.94      0.92      0.93      1000\n",
      "\n",
      "    accuracy                           0.90     10000\n",
      "   macro avg       0.90      0.90      0.90     10000\n",
      "weighted avg       0.90      0.90      0.90     10000\n",
      "\n"
     ]
    }
   ],
   "source": [
    "# Testing with the model that is trained with 75% of the training data with dropoutlayers\n",
    "evaluate_dropout(test_data,\"models/Baseline Model having dropout layers with 75% of training data_model_epoch_5.pth\",test_data.dataset.classes)"
   ]
  },
  {
   "cell_type": "markdown",
   "metadata": {},
   "source": [
    "# SGD with Momentum"
   ]
  },
  {
   "cell_type": "code",
   "execution_count": 394,
   "metadata": {},
   "outputs": [],
   "source": [
    "def Train_sgd_momentum(train_data,model_name):\n",
    " epochs = 5\n",
    "\n",
    " save_path = \"models/\"\n",
    " os.makedirs(save_path, exist_ok=True) \n",
    "\n",
    " n_channels = 1\n",
    " \n",
    "\n",
    " # Initializing the model\n",
    " model = KMNIST(n_channels=n_channels,n_classes=10).to(device)\n",
    "    \n",
    " # Defining the Stochastic Gradient descent optimizer\n",
    " sgd_optimizer = optim.SGD(model.parameters(), lr=0.01,momentum=0.9)\n",
    " # defining the Accuracy Metric\n",
    " accuracy_metric = Accuracy(task=\"multiclass\", num_classes=10).to(device) \n",
    "\n",
    " # Defining the Cross Entropy loss function\n",
    " loss_function = nn.CrossEntropyLoss().to(device)\n",
    "\n",
    "\n",
    " # defining the loss \n",
    " losses =[]\n",
    "\n",
    " for epoch in range(epochs):\n",
    "     # initiaizing the loss for each batch \n",
    "     batch_losses =[]\n",
    "\n",
    "     # Resetting the accuracy metric for each epoch\n",
    "     accuracy_metric.reset()\n",
    "        \n",
    "     # iterating over each batch\n",
    "     for images, labels in train_data:\n",
    "         images , labels = images.to(device) , labels.to(device)\n",
    "         output = model(images)\n",
    "                         \n",
    "         # calculating the loss\n",
    "         loss = loss_function(output, labels)\n",
    "\n",
    "         # Making all the gradients to zero, so that weights are updated using the current gradients not previous ones\n",
    "         sgd_optimizer.zero_grad()\n",
    "\n",
    "         # backpropogration\n",
    "         loss.backward()\n",
    "\n",
    "         # updating the weights \n",
    "         sgd_optimizer.step()\n",
    "\n",
    "        \n",
    "         # appending the loss of the current batch\n",
    "         # .item() will convert the loss from tensor to float\n",
    "         batch_losses.append(loss.item())\n",
    "\n",
    "         # updating the accuracy metrics for currrent batch\n",
    "         accuracy_metric.update(output,labels)\n",
    "\n",
    "     # Calculating the losses for and accuracy for epoch which includes all the batches\n",
    "     train_loss = np.mean(batch_losses)\n",
    "     train_accuracy = accuracy_metric.compute().item()\n",
    "     losses.append(train_loss)\n",
    "\n",
    "     print(f\" Epoch [{epoch +1}/{epochs}], Loss: {train_loss:.4f} , Accuracy: {train_accuracy *100:.2f}% \\n\")\n",
    "\n",
    " # saving the model for each epoch size\n",
    " model_filename = f\"{save_path}{model_name}_model_epoch_{epochs}.pth\"\n",
    " torch.save(model.state_dict(), model_filename)\n",
    " print(f\"Model saved: {model_filename}\\n\")"
   ]
  },
  {
   "cell_type": "code",
   "execution_count": 395,
   "metadata": {},
   "outputs": [
    {
     "name": "stdout",
     "output_type": "stream",
     "text": [
      " Epoch [1/5], Loss: 0.6192 , Accuracy: 78.50% \n",
      "\n",
      " Epoch [2/5], Loss: 0.0734 , Accuracy: 97.81% \n",
      "\n",
      " Epoch [3/5], Loss: 0.0381 , Accuracy: 98.79% \n",
      "\n",
      " Epoch [4/5], Loss: 0.0213 , Accuracy: 99.35% \n",
      "\n",
      " Epoch [5/5], Loss: 0.0133 , Accuracy: 99.57% \n",
      "\n",
      "Model saved: models/Baseline Model with Momentum_model_epoch_5.pth\n",
      "\n"
     ]
    }
   ],
   "source": [
    "Train_sgd_momentum(train_data,\"Baseline Model with Momentum\")"
   ]
  },
  {
   "cell_type": "code",
   "execution_count": 459,
   "metadata": {},
   "outputs": [
    {
     "name": "stdout",
     "output_type": "stream",
     "text": [
      "Test accuracy of the Model: 95.82%\n",
      "Classification Report:\n",
      "              precision    recall  f1-score   support\n",
      "\n",
      "           o       0.94      0.99      0.96      1000\n",
      "          ki       0.97      0.95      0.96      1000\n",
      "          su       0.96      0.89      0.92      1000\n",
      "         tsu       0.95      0.99      0.97      1000\n",
      "          na       0.98      0.93      0.95      1000\n",
      "          ha       0.96      0.97      0.96      1000\n",
      "          ma       0.88      0.98      0.93      1000\n",
      "          ya       0.98      0.96      0.97      1000\n",
      "          re       0.98      0.98      0.98      1000\n",
      "          wo       1.00      0.95      0.97      1000\n",
      "\n",
      "    accuracy                           0.96     10000\n",
      "   macro avg       0.96      0.96      0.96     10000\n",
      "weighted avg       0.96      0.96      0.96     10000\n",
      "\n"
     ]
    }
   ],
   "source": [
    "# Testing with the model trained with SGD Momentum\n",
    "evaluate(test_data, \"models/Baseline Model with Momentum_model_epoch_5.pth\",test_data.dataset.classes)"
   ]
  },
  {
   "cell_type": "markdown",
   "metadata": {},
   "source": [
    "## Training the model having SGD with Momentum with 25% , 50% and 75% of Total Training data"
   ]
  },
  {
   "cell_type": "code",
   "execution_count": 461,
   "metadata": {},
   "outputs": [
    {
     "name": "stdout",
     "output_type": "stream",
     "text": [
      " Epoch [1/5], Loss: 0.8086 , Accuracy: 71.99% \n",
      "\n",
      " Epoch [2/5], Loss: 0.1432 , Accuracy: 95.53% \n",
      "\n",
      " Epoch [3/5], Loss: 0.0660 , Accuracy: 97.92% \n",
      "\n",
      " Epoch [4/5], Loss: 0.0338 , Accuracy: 98.95% \n",
      "\n",
      " Epoch [5/5], Loss: 0.0256 , Accuracy: 99.19% \n",
      "\n",
      "Model saved: models/Baseline Model having SGD With Momentum with 25% of training data_model_epoch_5.pth\n",
      "\n"
     ]
    }
   ],
   "source": [
    "Train_sgd_momentum(train_data_25,\"Baseline Model having SGD With Momentum with 25% of training data\")"
   ]
  },
  {
   "cell_type": "code",
   "execution_count": 462,
   "metadata": {},
   "outputs": [
    {
     "name": "stdout",
     "output_type": "stream",
     "text": [
      "Test accuracy of the Model: 93.16%\n",
      "Classification Report:\n",
      "              precision    recall  f1-score   support\n",
      "\n",
      "           o       0.93      0.96      0.95      1000\n",
      "          ki       0.92      0.91      0.92      1000\n",
      "          su       0.95      0.85      0.90      1000\n",
      "         tsu       0.97      0.96      0.96      1000\n",
      "          na       0.97      0.88      0.93      1000\n",
      "          ha       0.99      0.89      0.94      1000\n",
      "          ma       0.85      0.98      0.91      1000\n",
      "          ya       0.93      0.95      0.94      1000\n",
      "          re       0.92      0.97      0.94      1000\n",
      "          wo       0.92      0.96      0.94      1000\n",
      "\n",
      "    accuracy                           0.93     10000\n",
      "   macro avg       0.93      0.93      0.93     10000\n",
      "weighted avg       0.93      0.93      0.93     10000\n",
      "\n"
     ]
    }
   ],
   "source": [
    "# Testing with the model that is trained with 25% of the training data having SGD With Momentum\n",
    "evaluate(test_data,\"models/Baseline Model having SGD With Momentum with 25% of training data_model_epoch_5.pth\",test_data.dataset.classes)"
   ]
  },
  {
   "cell_type": "code",
   "execution_count": 401,
   "metadata": {},
   "outputs": [
    {
     "name": "stdout",
     "output_type": "stream",
     "text": [
      " Epoch [1/5], Loss: 0.6512 , Accuracy: 77.65% \n",
      "\n",
      " Epoch [2/5], Loss: 0.0903 , Accuracy: 97.26% \n",
      "\n",
      " Epoch [3/5], Loss: 0.0433 , Accuracy: 98.59% \n",
      "\n",
      " Epoch [4/5], Loss: 0.0229 , Accuracy: 99.26% \n",
      "\n",
      " Epoch [5/5], Loss: 0.0163 , Accuracy: 99.51% \n",
      "\n",
      "Model saved: models/Baseline Model having SGD With Momentum with 50% of training data_model_epoch_5.pth\n",
      "\n"
     ]
    }
   ],
   "source": [
    "Train_sgd_momentum(train_data_50,\"Baseline Model having SGD With Momentum with 50% of training data\")"
   ]
  },
  {
   "cell_type": "code",
   "execution_count": 463,
   "metadata": {},
   "outputs": [
    {
     "name": "stdout",
     "output_type": "stream",
     "text": [
      "Test accuracy of the Model: 94.30%\n",
      "Classification Report:\n",
      "              precision    recall  f1-score   support\n",
      "\n",
      "           o       0.97      0.93      0.95      1000\n",
      "          ki       0.98      0.90      0.94      1000\n",
      "          su       0.89      0.92      0.91      1000\n",
      "         tsu       0.93      0.96      0.95      1000\n",
      "          na       0.94      0.93      0.93      1000\n",
      "          ha       0.90      0.96      0.93      1000\n",
      "          ma       0.94      0.95      0.94      1000\n",
      "          ya       0.98      0.95      0.97      1000\n",
      "          re       0.94      0.96      0.95      1000\n",
      "          wo       0.97      0.97      0.97      1000\n",
      "\n",
      "    accuracy                           0.94     10000\n",
      "   macro avg       0.94      0.94      0.94     10000\n",
      "weighted avg       0.94      0.94      0.94     10000\n",
      "\n"
     ]
    }
   ],
   "source": [
    "# Testing with the model that is trained with 50% of the training data having SGD With Momentum\n",
    "evaluate(test_data,\"models/Baseline Model having SGD With Momentum with 50% of training data_model_epoch_5.pth\",test_data.dataset.classes)"
   ]
  },
  {
   "cell_type": "code",
   "execution_count": 403,
   "metadata": {},
   "outputs": [
    {
     "name": "stdout",
     "output_type": "stream",
     "text": [
      " Epoch [1/5], Loss: 0.6664 , Accuracy: 77.08% \n",
      "\n",
      " Epoch [2/5], Loss: 0.0823 , Accuracy: 97.50% \n",
      "\n",
      " Epoch [3/5], Loss: 0.0410 , Accuracy: 98.74% \n",
      "\n",
      " Epoch [4/5], Loss: 0.0211 , Accuracy: 99.35% \n",
      "\n",
      " Epoch [5/5], Loss: 0.0121 , Accuracy: 99.60% \n",
      "\n",
      "Model saved: models/Baseline Model having SGD With Momentum with 75% of training data_model_epoch_5.pth\n",
      "\n"
     ]
    }
   ],
   "source": [
    "Train_sgd_momentum(train_data_75,\"Baseline Model having SGD With Momentum with 75% of training data\")"
   ]
  },
  {
   "cell_type": "code",
   "execution_count": 464,
   "metadata": {},
   "outputs": [
    {
     "name": "stdout",
     "output_type": "stream",
     "text": [
      "Test accuracy of the Model: 95.87%\n",
      "Classification Report:\n",
      "              precision    recall  f1-score   support\n",
      "\n",
      "           o       0.97      0.97      0.97      1000\n",
      "          ki       0.90      0.97      0.93      1000\n",
      "          su       0.96      0.92      0.94      1000\n",
      "         tsu       0.96      0.98      0.97      1000\n",
      "          na       0.98      0.93      0.95      1000\n",
      "          ha       0.95      0.97      0.96      1000\n",
      "          ma       0.94      0.97      0.96      1000\n",
      "          ya       0.97      0.98      0.98      1000\n",
      "          re       0.98      0.93      0.96      1000\n",
      "          wo       0.99      0.97      0.98      1000\n",
      "\n",
      "    accuracy                           0.96     10000\n",
      "   macro avg       0.96      0.96      0.96     10000\n",
      "weighted avg       0.96      0.96      0.96     10000\n",
      "\n"
     ]
    }
   ],
   "source": [
    "# Testing with the model that is trained with 75% of the training data having SGD With Momentum\n",
    "evaluate(test_data,\"models/Baseline Model having SGD With Momentum with 75% of training data_model_epoch_5.pth\",test_data.dataset.classes)"
   ]
  },
  {
   "cell_type": "markdown",
   "metadata": {},
   "source": [
    "# Training with L2 Regularization"
   ]
  },
  {
   "cell_type": "code",
   "execution_count": 428,
   "metadata": {},
   "outputs": [],
   "source": [
    "import tensorflow as tf\n",
    "import pathlib\n",
    "import torchvision\n",
    "import torch.nn as nn\n",
    "import torch.nn.functional as F\n",
    "import torchvision.transforms as transforms\n",
    "from torchvision.datasets import ImageFolder\n",
    "from torch.utils.data import DataLoader, random_split\n",
    "import torch\n",
    "import torch.optim as optim\n",
    "from torchmetrics.classification import Accuracy\n",
    "import numpy as np\n",
    "import os\n",
    "from torch.utils.data import Subset\n",
    "\n",
    "\n",
    "# defining the image transformations\n",
    "\n",
    "train_transform = transforms.Compose([\n",
    "    transforms.RandomHorizontalFlip(p=0.5),  \n",
    "    transforms.RandomRotation(15),           \n",
    "    transforms.RandomAffine(degrees=0, translate=(0.1, 0.1)),  \n",
    "    transforms.ToTensor(),                 \n",
    "    transforms.Normalize((0.5,), (0.5,))      \n",
    "])\n",
    "\n",
    "test_transform = transforms.Compose([\n",
    "\n",
    "    # Converting the image to PyTorch tensors\n",
    "    transforms.ToTensor(),\n",
    "\n",
    "    # Performing the Normalization \n",
    "    transforms.Normalize((0.5,), (0.5,))\n",
    "\n",
    "\n",
    "])\n",
    "\n",
    "\n",
    "# Loading the datasets\n",
    "\n",
    "train_set_da = torchvision.datasets.KMNIST(root='./data', train=True, download=True, transform=train_transform)\n",
    "test_set_da = torchvision.datasets.KMNIST(root='./data', train = False, download=True, transform=test_transform)\n",
    "\n",
    "\n",
    "\n",
    "# Creating the PyTorch dataloaders for batch processing \n",
    "# Shuffling the data for training because we can get the different combinations of samples for each epoch so the model learns well\n",
    "# Shuffling for test data is set to False because there is no learning.\n",
    "train_data_da = DataLoader(train_set_da, batch_size=64, shuffle=True)\n",
    "test_data_da  = DataLoader(test_set_da,batch_size=64, shuffle=False)\n"
   ]
  },
  {
   "cell_type": "code",
   "execution_count": 436,
   "metadata": {},
   "outputs": [],
   "source": [
    "def Train_with_L2Regularization(train_data,model_name,n_classes):\n",
    " epochs = 5\n",
    "\n",
    " save_path = \"models/\"\n",
    " os.makedirs(save_path, exist_ok=True) \n",
    "\n",
    " n_channels = 1\n",
    " \n",
    "\n",
    " # Initializing the model\n",
    " model = KMNIST(n_channels=n_channels,n_classes=n_classes).to(device)\n",
    "    \n",
    " # Defining the Stochastic Gradient descent optimizer\n",
    " sgd_optimizer = optim.SGD(model.parameters(), lr=0.01,weight_decay=0.0001)\n",
    " # defining the Accuracy Metric\n",
    " accuracy_metric = Accuracy(task=\"multiclass\", num_classes=n_classes).to(device) \n",
    "\n",
    " # Defining the Cross Entropy loss function\n",
    " loss_function = nn.CrossEntropyLoss().to(device)\n",
    "\n",
    "\n",
    " # defining the loss \n",
    " losses =[]\n",
    "\n",
    " for epoch in range(epochs):\n",
    "     # initiaizing the loss for each batch \n",
    "     batch_losses =[]\n",
    "\n",
    "     # Resetting the accuracy metric for each epoch\n",
    "     accuracy_metric.reset()\n",
    "        \n",
    "     # iterating over each batch\n",
    "     for images, labels in train_data:\n",
    "         images , labels = images.to(device) , labels.to(device)\n",
    "         output = model(images)\n",
    "                         \n",
    "         # calculating the loss\n",
    "         loss = loss_function(output, labels)\n",
    "\n",
    "         # Making all the gradients to zero, so that weights are updated using the current gradients not previous ones\n",
    "         sgd_optimizer.zero_grad()\n",
    "\n",
    "         # backpropogration\n",
    "         loss.backward()\n",
    "\n",
    "         # updating the weights \n",
    "         sgd_optimizer.step()\n",
    "\n",
    "            \n",
    "\n",
    "         # appending the loss of the current batch\n",
    "         # .item() will convert the loss from tensor to float\n",
    "         batch_losses.append(loss.item())\n",
    "\n",
    "         # updating the accuracy metrics for currrent batch\n",
    "         accuracy_metric.update(output,labels)\n",
    "\n",
    "     # Calculating the losses for and accuracy for epoch which includes all the batches\n",
    "     train_loss = np.mean(batch_losses)\n",
    "     train_accuracy = accuracy_metric.compute().item()\n",
    "     losses.append(train_loss)\n",
    "\n",
    "     print(f\" Epoch [{epoch +1}/{epochs}], Loss: {train_loss:.4f} , Accuracy: {train_accuracy *100:.2f}% \\n\")\n",
    "\n",
    " # saving the model for each epoch size\n",
    " model_filename = f\"{save_path}{model_name}_model_epoch_{epochs}.pth\"\n",
    " torch.save(model.state_dict(), model_filename)\n",
    " print(f\"Model saved: {model_filename}\\n\")"
   ]
  },
  {
   "cell_type": "code",
   "execution_count": 437,
   "metadata": {},
   "outputs": [
    {
     "name": "stdout",
     "output_type": "stream",
     "text": [
      " Epoch [1/5], Loss: 2.2138 , Accuracy: 23.75% \n",
      "\n",
      " Epoch [2/5], Loss: 0.6291 , Accuracy: 79.66% \n",
      "\n",
      " Epoch [3/5], Loss: 0.2681 , Accuracy: 91.58% \n",
      "\n",
      " Epoch [4/5], Loss: 0.1791 , Accuracy: 94.57% \n",
      "\n",
      " Epoch [5/5], Loss: 0.1346 , Accuracy: 95.86% \n",
      "\n",
      "Model saved: models/Baseline Model with L2 Regularization_model_epoch_5.pth\n",
      "\n"
     ]
    }
   ],
   "source": [
    "Train_with_L2Regularization(train_data,\"Baseline Model with L2 Regularization\",10)"
   ]
  },
  {
   "cell_type": "code",
   "execution_count": 465,
   "metadata": {},
   "outputs": [
    {
     "name": "stdout",
     "output_type": "stream",
     "text": [
      "Test accuracy of the Model: 89.82%\n",
      "Classification Report:\n",
      "              precision    recall  f1-score   support\n",
      "\n",
      "           o       0.93      0.92      0.93      1000\n",
      "          ki       0.96      0.81      0.88      1000\n",
      "          su       0.87      0.85      0.86      1000\n",
      "         tsu       0.90      0.96      0.93      1000\n",
      "          na       0.91      0.87      0.89      1000\n",
      "          ha       0.92      0.92      0.92      1000\n",
      "          ma       0.79      0.97      0.87      1000\n",
      "          ya       0.97      0.85      0.90      1000\n",
      "          re       0.84      0.90      0.87      1000\n",
      "          wo       0.94      0.94      0.94      1000\n",
      "\n",
      "    accuracy                           0.90     10000\n",
      "   macro avg       0.90      0.90      0.90     10000\n",
      "weighted avg       0.90      0.90      0.90     10000\n",
      "\n"
     ]
    }
   ],
   "source": [
    "# Testing with the model trained having L2 Regularization\n",
    "evaluate(test_data, \"models/Baseline Model with L2 Regularization_model_epoch_5.pth\",test_data.dataset.classes)"
   ]
  },
  {
   "cell_type": "markdown",
   "metadata": {},
   "source": [
    "## Training the model having L2 Regularization with 25% , 50% and 75% of Total Training data"
   ]
  },
  {
   "cell_type": "code",
   "execution_count": 439,
   "metadata": {},
   "outputs": [
    {
     "name": "stdout",
     "output_type": "stream",
     "text": [
      " Epoch [1/5], Loss: 2.2875 , Accuracy: 15.75% \n",
      "\n",
      " Epoch [2/5], Loss: 0.9191 , Accuracy: 69.77% \n",
      "\n",
      " Epoch [3/5], Loss: 0.3636 , Accuracy: 88.23% \n",
      "\n",
      " Epoch [4/5], Loss: 0.2157 , Accuracy: 93.27% \n",
      "\n",
      " Epoch [5/5], Loss: 0.1489 , Accuracy: 95.14% \n",
      "\n",
      "Model saved: models/Baseline Model with 25% of with L2 Regularization_model_epoch_5.pth\n",
      "\n"
     ]
    }
   ],
   "source": [
    "Train_with_L2Regularization(train_data_25,\"Baseline Model with 25% of with L2 Regularization\",10)"
   ]
  },
  {
   "cell_type": "code",
   "execution_count": 466,
   "metadata": {},
   "outputs": [
    {
     "name": "stdout",
     "output_type": "stream",
     "text": [
      "Test accuracy of the Model: 85.38%\n",
      "Classification Report:\n",
      "              precision    recall  f1-score   support\n",
      "\n",
      "           o       0.94      0.89      0.91      1000\n",
      "          ki       0.86      0.88      0.87      1000\n",
      "          su       0.80      0.82      0.81      1000\n",
      "         tsu       0.87      0.94      0.90      1000\n",
      "          na       0.90      0.79      0.84      1000\n",
      "          ha       0.95      0.79      0.86      1000\n",
      "          ma       0.61      0.97      0.75      1000\n",
      "          ya       0.93      0.78      0.85      1000\n",
      "          re       0.92      0.86      0.89      1000\n",
      "          wo       0.95      0.83      0.89      1000\n",
      "\n",
      "    accuracy                           0.85     10000\n",
      "   macro avg       0.87      0.85      0.86     10000\n",
      "weighted avg       0.87      0.85      0.86     10000\n",
      "\n"
     ]
    }
   ],
   "source": [
    "# Testing with the model trained having L2 Regularization with 25% of training data\n",
    "evaluate(test_data, \"models/Baseline Model with 25% of with L2 Regularization_model_epoch_5.pth\",test_data.dataset.classes)"
   ]
  },
  {
   "cell_type": "code",
   "execution_count": 441,
   "metadata": {},
   "outputs": [
    {
     "name": "stdout",
     "output_type": "stream",
     "text": [
      " Epoch [1/5], Loss: 2.2539 , Accuracy: 24.10% \n",
      "\n",
      " Epoch [2/5], Loss: 0.6956 , Accuracy: 77.18% \n",
      "\n",
      " Epoch [3/5], Loss: 0.2809 , Accuracy: 90.99% \n",
      "\n",
      " Epoch [4/5], Loss: 0.1771 , Accuracy: 94.45% \n",
      "\n",
      " Epoch [5/5], Loss: 0.1266 , Accuracy: 95.90% \n",
      "\n",
      "Model saved: models/Baseline Model with 50% of with L2 Regularization_model_epoch_5.pth\n",
      "\n"
     ]
    }
   ],
   "source": [
    "Train_with_L2Regularization(train_data_50,\"Baseline Model with 50% of with L2 Regularization\",10)"
   ]
  },
  {
   "cell_type": "code",
   "execution_count": 467,
   "metadata": {},
   "outputs": [
    {
     "name": "stdout",
     "output_type": "stream",
     "text": [
      "Test accuracy of the Model: 86.33%\n",
      "Classification Report:\n",
      "              precision    recall  f1-score   support\n",
      "\n",
      "           o       0.93      0.90      0.91      1000\n",
      "          ki       0.90      0.88      0.89      1000\n",
      "          su       0.74      0.87      0.80      1000\n",
      "         tsu       0.90      0.92      0.91      1000\n",
      "          na       0.92      0.73      0.82      1000\n",
      "          ha       0.65      0.95      0.77      1000\n",
      "          ma       0.95      0.81      0.87      1000\n",
      "          ya       0.98      0.76      0.86      1000\n",
      "          re       0.90      0.89      0.90      1000\n",
      "          wo       0.93      0.91      0.92      1000\n",
      "\n",
      "    accuracy                           0.86     10000\n",
      "   macro avg       0.88      0.86      0.87     10000\n",
      "weighted avg       0.88      0.86      0.87     10000\n",
      "\n"
     ]
    }
   ],
   "source": [
    "# Testing with the model trained having L2 Regularization with 50% of training data\n",
    "evaluate(test_data, \"models/Baseline Model with 50% of with L2 Regularization_model_epoch_5.pth\",test_data.dataset.classes)"
   ]
  },
  {
   "cell_type": "code",
   "execution_count": 443,
   "metadata": {},
   "outputs": [
    {
     "name": "stdout",
     "output_type": "stream",
     "text": [
      " Epoch [1/5], Loss: 2.2839 , Accuracy: 19.39% \n",
      "\n",
      " Epoch [2/5], Loss: 0.7800 , Accuracy: 74.90% \n",
      "\n",
      " Epoch [3/5], Loss: 0.2893 , Accuracy: 90.82% \n",
      "\n",
      " Epoch [4/5], Loss: 0.1898 , Accuracy: 93.99% \n",
      "\n",
      " Epoch [5/5], Loss: 0.1368 , Accuracy: 95.82% \n",
      "\n",
      "Model saved: models/Baseline Model with 75% of with L2 Regularization_model_epoch_5.pth\n",
      "\n"
     ]
    }
   ],
   "source": [
    "Train_with_L2Regularization(train_data_75,\"Baseline Model with 75% of with L2 Regularization\",10)"
   ]
  },
  {
   "cell_type": "code",
   "execution_count": 468,
   "metadata": {},
   "outputs": [
    {
     "name": "stdout",
     "output_type": "stream",
     "text": [
      "Test accuracy of the Model: 88.89%\n",
      "Classification Report:\n",
      "              precision    recall  f1-score   support\n",
      "\n",
      "           o       0.95      0.86      0.90      1000\n",
      "          ki       0.93      0.87      0.90      1000\n",
      "          su       0.75      0.88      0.81      1000\n",
      "         tsu       0.90      0.94      0.92      1000\n",
      "          na       0.83      0.90      0.87      1000\n",
      "          ha       0.97      0.77      0.86      1000\n",
      "          ma       0.86      0.93      0.89      1000\n",
      "          ya       0.86      0.96      0.91      1000\n",
      "          re       0.94      0.88      0.91      1000\n",
      "          wo       0.96      0.90      0.93      1000\n",
      "\n",
      "    accuracy                           0.89     10000\n",
      "   macro avg       0.90      0.89      0.89     10000\n",
      "weighted avg       0.90      0.89      0.89     10000\n",
      "\n"
     ]
    }
   ],
   "source": [
    "# Testing with the model trained having L2 Regularization with 75% of training data\n",
    "evaluate(test_data, \"models/Baseline Model with 75% of with L2 Regularization_model_epoch_5.pth\",test_data.dataset.classes)"
   ]
  },
  {
   "cell_type": "markdown",
   "metadata": {},
   "source": [
    "## Bar chat displaying the accuracies over all the techniques "
   ]
  },
  {
   "cell_type": "code",
   "execution_count": 3,
   "metadata": {},
   "outputs": [
    {
     "data": {
      "image/png": "[encoded data removed]",
      "text/plain": [
       "<Figure size 1200x600 with 1 Axes>"
      ]
     },
     "metadata": {},
     "output_type": "display_data"
    }
   ],
   "source": [
    "import re\n",
    "import pandas as pd\n",
    "import matplotlib.pyplot as plt\n",
    "\n",
    "# Accuracy values obtained from above testing \n",
    "accuracy_values = [85.22, 89.11, 90.31,87.62,94.65, 89.43, 90.05, 90.17, 93.16, 94.30, 95.87, 95.82, 85.38, 86.33, 88.89, 89.82]\n",
    "configurations = [\n",
    "    \"Baseline (25%)\", \n",
    "    \"Baseline (50%)\", \n",
    "    \"Baseline (75%)\", \n",
    "    \"Baseline (100%)\",\n",
    "    \"Dropout (25%)\", \n",
    "    \"Dropout (50%)\", \n",
    "    \"Dropout (75%)\", \n",
    "    \"Dropout (100%)\",\n",
    "    \"SGD with Momentum (25%)\", \n",
    "    \"SGD with Momentum (50%)\", \n",
    "    \"SGD with Momentum (75%)\", \n",
    "    \"SGD with Momentum (100%)\", \n",
    "    \"L2 Regularization (25%)\", \n",
    "    \"L2 Regularization (50%)\", \n",
    "    \"L2 Regularization (75%)\", \n",
    "    \"L2 Regularization (100%)\"\n",
    "]\n",
    "\n",
    "# Assigning the  regularization techniques based on the configuration names\n",
    "Techniques = []\n",
    "for config in configurations:\n",
    "    if \"Dropout\" in config:\n",
    "        Techniques.append(\"Dropout\")\n",
    "    elif \"L2 Regularization\" in config:\n",
    "        Techniques.append(\"L2 Regularization\")\n",
    "    elif \"SGD with Momentum\" in config:\n",
    "        Techniques.append(\"SGD with Momentum\")\n",
    "    else:\n",
    "        Techniques.append(\"Baseline\")\n",
    "\n",
    "# Creating the DataFrame for visualization\n",
    "accuracy_df = pd.DataFrame({\n",
    "    \"Configuration\": configurations,\n",
    "    \"Test Accuracy (%)\": accuracy_values,\n",
    "    \"Regularization\": Techniques\n",
    "})\n",
    "\n",
    "# Generating the bar chart\n",
    "plt.figure(figsize=(12, 6))\n",
    "colors = {\n",
    "    \"Baseline\": \"blue\",\n",
    "    \"Dropout\": \"green\",\n",
    "    \"L2 Regularization\": \"red\",\n",
    "    \"SGD with Momentum\": \"orange\"\n",
    "}\n",
    "colors = [colors[reg] for reg in accuracy_df[\"Regularization\"]]\n",
    "\n",
    "#plt.bar(accuracy_df[\"Configuration\"], accuracy_df[\"Test Accuracy (%)\"], color=colors)\n",
    "\n",
    "# Creating the  bars\n",
    "bars = plt.bar(accuracy_df[\"Configuration\"], accuracy_df[\"Test Accuracy (%)\"], color=colors)\n",
    "\n",
    "# Adding values on top of each bar\n",
    "for bar in bars:\n",
    "    yval = bar.get_height()\n",
    "    plt.text(bar.get_x() + bar.get_width()/2, yval + 0.5, f\"{yval:.2f}%\", ha='center', fontsize=10, fontweight='bold')\n",
    "\n",
    "\n",
    "plt.xlabel(\"Model Configurations with amount of training data used\")\n",
    "plt.ylabel(\"Test Accuracy (%)\")\n",
    "plt.title(\"Test Accuracy by amount of training data and Techniques used\")\n",
    "plt.xticks(range(len(configurations)), configurations, rotation=45, ha=\"right\")\n",
    "\n",
    "# Legend\n",
    "plt.legend(handles=[\n",
    "    plt.Rectangle((0,0),1,1, color=\"blue\", label=\"Baseline\"),\n",
    "    plt.Rectangle((0,0),1,1, color=\"green\", label=\"Dropout\"),\n",
    "    plt.Rectangle((0,0),1,1, color=\"red\", label=\"L2 Regularization\"),\n",
    "    plt.Rectangle((0,0),1,1, color=\"orange\", label=\"SGD with Momentum\")\n",
    "], title=\"Regularization\")\n",
    "\n",
    "plt.show()\n"
   ]
  }
 ],
 "metadata": {
  "kernelspec": {
   "display_name": "Python 3",
   "language": "python",
   "name": "python3"
  },
  "language_info": {
   "codemirror_mode": {
    "name": "ipython",
    "version": 3
   },
   "file_extension": ".py",
   "mimetype": "text/x-python",
   "name": "python",
   "nbconvert_exporter": "python",
   "pygments_lexer": "ipython3",
   "version": "3.9.6"
  }
 },
 "nbformat": 4,
 "nbformat_minor": 2
}
